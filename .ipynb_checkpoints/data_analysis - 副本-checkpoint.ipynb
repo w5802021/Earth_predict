{
 "cells": [
  {
   "cell_type": "code",
   "execution_count": 1,
   "metadata": {},
   "outputs": [],
   "source": [
    "import gc\n",
    "import os\n",
    "import time\n",
    "import logging\n",
    "import datetime\n",
    "import warnings\n",
    "import numpy as np\n",
    "import pandas as pd\n",
    "import seaborn as sns\n",
    "import xgboost as xgb\n",
    "import lightgbm as lgb\n",
    "from scipy import stats\n",
    "from tqdm import tqdm_notebook\n",
    "import matplotlib.pyplot as plt\n",
    "from sklearn.preprocessing import StandardScaler\n",
    "warnings.filterwarnings('ignore')"
   ]
  },
  {
   "cell_type": "code",
   "execution_count": null,
   "metadata": {},
   "outputs": [],
   "source": [
    "PATH = 'E:/kaggle/kaggle-Lanl_Earthquake_Prediction/'\n",
    "\n",
    "train_X = pd.read_csv(PATH + 'input/masters-final-project/train_x_%d.csv' % 0)\n",
    "train_y = pd.read_csv(PATH + 'input/masters-final-project/train_y_%d.csv' % 0)\n",
    "test_X = pd.read_csv(PATH + 'input/masters-final-project/test_x.csv')\n",
    "for i in range(1, 6):\n",
    "    temp = pd.read_csv(PATH + 'input/masters-final-project/train_x_%d.csv' % i)\n",
    "    train_X = train_X.append(temp)\n",
    "    temp = pd.read_csv(PATH + 'input/masters-final-project/train_y_%d.csv' % i)\n",
    "    train_y = train_y.append(temp)\n",
    "uniq = train_X['seg_start'].unique()"
   ]
  },
  {
   "cell_type": "code",
   "execution_count": null,
   "metadata": {},
   "outputs": [],
   "source": [
    "uniq。head"
   ]
  }
 ],
 "metadata": {
  "kernelspec": {
   "display_name": "Python 3",
   "language": "python",
   "name": "python3"
  },
  "language_info": {
   "codemirror_mode": {
    "name": "ipython",
    "version": 3
   },
   "file_extension": ".py",
   "mimetype": "text/x-python",
   "name": "python",
   "nbconvert_exporter": "python",
   "pygments_lexer": "ipython3",
   "version": "3.6.5"
  }
 },
 "nbformat": 4,
 "nbformat_minor": 1
}
