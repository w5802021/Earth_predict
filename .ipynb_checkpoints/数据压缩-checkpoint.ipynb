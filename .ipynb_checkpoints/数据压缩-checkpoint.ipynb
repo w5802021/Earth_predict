{
 "cells": [
  {
   "cell_type": "code",
   "execution_count": 2,
   "metadata": {},
   "outputs": [
    {
     "name": "stdout",
     "output_type": "stream",
     "text": [
      "Wall time: 2min 16s\n"
     ]
    }
   ],
   "source": [
    "import numpy as np\n",
    "import pandas as pd\n",
    "%time df_train = pd.read_csv('E:/kaggle/input/train/train.csv', dtype = {'acoustic_data': np.int16, 'time_to_failure': np.float32} ) # float32 is enough :)"
   ]
  },
  {
   "cell_type": "code",
   "execution_count": 18,
   "metadata": {},
   "outputs": [
    {
     "name": "stdout",
     "output_type": "stream",
     "text": [
      "[1.4691   1.4691   1.4691   ... 9.759795 9.759795 9.759795]\n",
      "[        0   5656574  50085878 104677356 138772453 187641820 218652630\n",
      " 245829585 307838917 338276287 375377848 419368880 461811623 495800225\n",
      " 528777115 585568144 621985673]\n"
     ]
    }
   ],
   "source": [
    "ttf = df_train['time_to_failure'].values\n",
    "print(ttf)\n",
    "index_start = np.nonzero(np.diff(ttf) > 0)[0] + 1     #np.diff（） 后一个数  减去 前一个数   np.nonzero() 返回非0数的索引\n",
    "index_start = np.insert(index_start, 0, 0) # 在index_start列表的第一个位置插入0\n",
    "print(index_start)"
   ]
  },
  {
   "cell_type": "code",
   "execution_count": 21,
   "metadata": {},
   "outputs": [
    {
     "name": "stdout",
     "output_type": "stream",
     "text": [
      "[ 5656574 44429304 54591478 34095097 48869367 31010810 27176955 62009332\n",
      " 30437370 37101561 43991032 42442743 33988602 32976890 56791029 36417529\n",
      "  7159807]\n"
     ]
    }
   ],
   "source": [
    "chunk_length = np.diff(np.append(index_start, df_train.shape[0]))\n",
    "print(chunk_length)"
   ]
  },
  {
   "cell_type": "code",
   "execution_count": 5,
   "metadata": {},
   "outputs": [
    {
     "name": "stdout",
     "output_type": "stream",
     "text": [
      "t_start = [ 1.4691 11.5408 14.1806  8.8567 12.694   8.0555  7.059  16.1074  7.9056\n",
      "  9.6371 11.4264 11.0242  8.8281  8.566  14.7518  9.4595 11.6186]\n",
      "t_end   = [7.9547981e-04 6.9548219e-04 7.9548504e-04 1.0954869e-03 5.9548946e-04\n",
      " 1.0954911e-03 4.9549254e-04 6.9549581e-04 1.9549743e-04 4.9549941e-04\n",
      " 1.9550172e-04 9.5503965e-05 9.5505762e-05 8.9550752e-04 5.9551053e-04\n",
      " 5.9551245e-04 9.7597952e+00]\n"
     ]
    }
   ],
   "source": [
    "t_start = ttf[index_start]\n",
    "t_end = ttf[index_start + chunk_length - 1]\n",
    "print('t_start =', t_start)\n",
    "print('t_end   =', t_end)"
   ]
  },
  {
   "cell_type": "code",
   "execution_count": 22,
   "metadata": {},
   "outputs": [],
   "source": [
    "dt_step = (t_start - t_end) / chunk_length"
   ]
  },
  {
   "cell_type": "code",
   "execution_count": 23,
   "metadata": {},
   "outputs": [
    {
     "name": "stdout",
     "output_type": "stream",
     "text": [
      "[0.00113751 0.00111473 0.00113453 0.00112513 0.00114231 0.00113392\n",
      " 0.00113568 0.0011415  0.00114213 0.00110644 0.0011511  0.0010898\n",
      " 0.0011088  0.00113577 0.00112676 0.00115302 0.00112135]\n",
      "Max error = 0.001153015481795805\n"
     ]
    }
   ],
   "source": [
    "linsp_diff_max = []\n",
    "for i in range(len(index_start)):\n",
    "    ttf_orig  = ttf[index_start[i] : index_start[i] + chunk_length[i]]\n",
    "    ttf_linsp = np.linspace(t_start[i], t_end[i], chunk_length[i])\n",
    "    linsp_diff_max.append(np.abs(ttf_orig - ttf_linsp).max())\n",
    "linsp_diff_max = np.array(linsp_diff_max)\n",
    "print(linsp_diff_max)\n",
    "print('Max error =', linsp_diff_max.max())"
   ]
  },
  {
   "cell_type": "code",
   "execution_count": 8,
   "metadata": {},
   "outputs": [
    {
     "data": {
      "text/html": [
       "<div>\n",
       "<style scoped>\n",
       "    .dataframe tbody tr th:only-of-type {\n",
       "        vertical-align: middle;\n",
       "    }\n",
       "\n",
       "    .dataframe tbody tr th {\n",
       "        vertical-align: top;\n",
       "    }\n",
       "\n",
       "    .dataframe thead th {\n",
       "        text-align: right;\n",
       "    }\n",
       "</style>\n",
       "<table border=\"1\" class=\"dataframe\">\n",
       "  <thead>\n",
       "    <tr style=\"text-align: right;\">\n",
       "      <th></th>\n",
       "      <th>index_start</th>\n",
       "      <th>chunk_length</th>\n",
       "      <th>t_start</th>\n",
       "      <th>t_end</th>\n",
       "      <th>dt_step</th>\n",
       "      <th>linsp_diff_max</th>\n",
       "    </tr>\n",
       "  </thead>\n",
       "  <tbody>\n",
       "    <tr>\n",
       "      <th>0</th>\n",
       "      <td>0</td>\n",
       "      <td>5656574</td>\n",
       "      <td>1.469100</td>\n",
       "      <td>0.000795</td>\n",
       "      <td>2.595749e-07</td>\n",
       "      <td>0.001138</td>\n",
       "    </tr>\n",
       "    <tr>\n",
       "      <th>1</th>\n",
       "      <td>5656574</td>\n",
       "      <td>44429304</td>\n",
       "      <td>11.540800</td>\n",
       "      <td>0.000695</td>\n",
       "      <td>2.597408e-07</td>\n",
       "      <td>0.001115</td>\n",
       "    </tr>\n",
       "    <tr>\n",
       "      <th>2</th>\n",
       "      <td>50085878</td>\n",
       "      <td>54591478</td>\n",
       "      <td>14.180600</td>\n",
       "      <td>0.000795</td>\n",
       "      <td>2.597439e-07</td>\n",
       "      <td>0.001135</td>\n",
       "    </tr>\n",
       "    <tr>\n",
       "      <th>3</th>\n",
       "      <td>104677356</td>\n",
       "      <td>34095097</td>\n",
       "      <td>8.856700</td>\n",
       "      <td>0.001095</td>\n",
       "      <td>2.597325e-07</td>\n",
       "      <td>0.001125</td>\n",
       "    </tr>\n",
       "    <tr>\n",
       "      <th>4</th>\n",
       "      <td>138772453</td>\n",
       "      <td>48869367</td>\n",
       "      <td>12.694000</td>\n",
       "      <td>0.000595</td>\n",
       "      <td>2.597416e-07</td>\n",
       "      <td>0.001142</td>\n",
       "    </tr>\n",
       "    <tr>\n",
       "      <th>5</th>\n",
       "      <td>187641820</td>\n",
       "      <td>31010810</td>\n",
       "      <td>8.055500</td>\n",
       "      <td>0.001095</td>\n",
       "      <td>2.597289e-07</td>\n",
       "      <td>0.001134</td>\n",
       "    </tr>\n",
       "    <tr>\n",
       "      <th>6</th>\n",
       "      <td>218652630</td>\n",
       "      <td>27176955</td>\n",
       "      <td>7.059000</td>\n",
       "      <td>0.000495</td>\n",
       "      <td>2.597239e-07</td>\n",
       "      <td>0.001136</td>\n",
       "    </tr>\n",
       "    <tr>\n",
       "      <th>7</th>\n",
       "      <td>245829585</td>\n",
       "      <td>62009332</td>\n",
       "      <td>16.107401</td>\n",
       "      <td>0.000695</td>\n",
       "      <td>2.597465e-07</td>\n",
       "      <td>0.001141</td>\n",
       "    </tr>\n",
       "    <tr>\n",
       "      <th>8</th>\n",
       "      <td>307838917</td>\n",
       "      <td>30437370</td>\n",
       "      <td>7.905600</td>\n",
       "      <td>0.000195</td>\n",
       "      <td>2.597269e-07</td>\n",
       "      <td>0.001142</td>\n",
       "    </tr>\n",
       "    <tr>\n",
       "      <th>9</th>\n",
       "      <td>338276287</td>\n",
       "      <td>37101561</td>\n",
       "      <td>9.637100</td>\n",
       "      <td>0.000495</td>\n",
       "      <td>2.597358e-07</td>\n",
       "      <td>0.001106</td>\n",
       "    </tr>\n",
       "    <tr>\n",
       "      <th>10</th>\n",
       "      <td>375377848</td>\n",
       "      <td>43991032</td>\n",
       "      <td>11.426400</td>\n",
       "      <td>0.000196</td>\n",
       "      <td>2.597394e-07</td>\n",
       "      <td>0.001151</td>\n",
       "    </tr>\n",
       "    <tr>\n",
       "      <th>11</th>\n",
       "      <td>419368880</td>\n",
       "      <td>42442743</td>\n",
       "      <td>11.024200</td>\n",
       "      <td>0.000096</td>\n",
       "      <td>2.597406e-07</td>\n",
       "      <td>0.001090</td>\n",
       "    </tr>\n",
       "    <tr>\n",
       "      <th>12</th>\n",
       "      <td>461811623</td>\n",
       "      <td>33988602</td>\n",
       "      <td>8.828100</td>\n",
       "      <td>0.000096</td>\n",
       "      <td>2.597343e-07</td>\n",
       "      <td>0.001109</td>\n",
       "    </tr>\n",
       "    <tr>\n",
       "      <th>13</th>\n",
       "      <td>495800225</td>\n",
       "      <td>32976890</td>\n",
       "      <td>8.566000</td>\n",
       "      <td>0.000896</td>\n",
       "      <td>2.597305e-07</td>\n",
       "      <td>0.001136</td>\n",
       "    </tr>\n",
       "    <tr>\n",
       "      <th>14</th>\n",
       "      <td>528777115</td>\n",
       "      <td>56791029</td>\n",
       "      <td>14.751800</td>\n",
       "      <td>0.000596</td>\n",
       "      <td>2.597453e-07</td>\n",
       "      <td>0.001127</td>\n",
       "    </tr>\n",
       "    <tr>\n",
       "      <th>15</th>\n",
       "      <td>585568144</td>\n",
       "      <td>36417529</td>\n",
       "      <td>9.459500</td>\n",
       "      <td>0.000596</td>\n",
       "      <td>2.597350e-07</td>\n",
       "      <td>0.001153</td>\n",
       "    </tr>\n",
       "    <tr>\n",
       "      <th>16</th>\n",
       "      <td>621985673</td>\n",
       "      <td>7159807</td>\n",
       "      <td>11.618600</td>\n",
       "      <td>9.759795</td>\n",
       "      <td>2.596166e-07</td>\n",
       "      <td>0.001121</td>\n",
       "    </tr>\n",
       "  </tbody>\n",
       "</table>\n",
       "</div>"
      ],
      "text/plain": [
       "    index_start  chunk_length    t_start     t_end       dt_step  \\\n",
       "0             0       5656574   1.469100  0.000795  2.595749e-07   \n",
       "1       5656574      44429304  11.540800  0.000695  2.597408e-07   \n",
       "2      50085878      54591478  14.180600  0.000795  2.597439e-07   \n",
       "3     104677356      34095097   8.856700  0.001095  2.597325e-07   \n",
       "4     138772453      48869367  12.694000  0.000595  2.597416e-07   \n",
       "5     187641820      31010810   8.055500  0.001095  2.597289e-07   \n",
       "6     218652630      27176955   7.059000  0.000495  2.597239e-07   \n",
       "7     245829585      62009332  16.107401  0.000695  2.597465e-07   \n",
       "8     307838917      30437370   7.905600  0.000195  2.597269e-07   \n",
       "9     338276287      37101561   9.637100  0.000495  2.597358e-07   \n",
       "10    375377848      43991032  11.426400  0.000196  2.597394e-07   \n",
       "11    419368880      42442743  11.024200  0.000096  2.597406e-07   \n",
       "12    461811623      33988602   8.828100  0.000096  2.597343e-07   \n",
       "13    495800225      32976890   8.566000  0.000896  2.597305e-07   \n",
       "14    528777115      56791029  14.751800  0.000596  2.597453e-07   \n",
       "15    585568144      36417529   9.459500  0.000596  2.597350e-07   \n",
       "16    621985673       7159807  11.618600  9.759795  2.596166e-07   \n",
       "\n",
       "    linsp_diff_max  \n",
       "0         0.001138  \n",
       "1         0.001115  \n",
       "2         0.001135  \n",
       "3         0.001125  \n",
       "4         0.001142  \n",
       "5         0.001134  \n",
       "6         0.001136  \n",
       "7         0.001141  \n",
       "8         0.001142  \n",
       "9         0.001106  \n",
       "10        0.001151  \n",
       "11        0.001090  \n",
       "12        0.001109  \n",
       "13        0.001136  \n",
       "14        0.001127  \n",
       "15        0.001153  \n",
       "16        0.001121  "
      ]
     },
     "execution_count": 8,
     "metadata": {},
     "output_type": "execute_result"
    }
   ],
   "source": [
    "df_train_info = pd.DataFrame({\n",
    "    'index_start':index_start,\n",
    "    'chunk_length':chunk_length,\n",
    "    't_start':t_start,\n",
    "    't_end':t_end,\n",
    "    'dt_step':dt_step,\n",
    "    'linsp_diff_max':linsp_diff_max\n",
    "})\n",
    "df_train_info.to_csv('E:/kaggle/input/train/train_info.csv', index=False)\n",
    "df_train_info"
   ]
  },
  {
   "cell_type": "code",
   "execution_count": 9,
   "metadata": {},
   "outputs": [
    {
     "name": "stdout",
     "output_type": "stream",
     "text": [
      "Wall time: 2min 13s\n",
      " 驱动器 E 中的卷是 新加卷\n",
      " 卷的序列号是 FE6C-1B39\n",
      "\n",
      " E:\\kaggle\\kaggle-Lanl_Earthquake_Prediction 的目录\n",
      "\n"
     ]
    },
    {
     "name": "stderr",
     "output_type": "stream",
     "text": [
      "找不到文件\n"
     ]
    }
   ],
   "source": [
    "%time np.savez_compressed('E:/kaggle/input/train/train_acoustic_data.npz', acoustic_data=df_train['acoustic_data'].values)\n",
    "%ls -lh"
   ]
  },
  {
   "cell_type": "code",
   "execution_count": 10,
   "metadata": {},
   "outputs": [
    {
     "name": "stdout",
     "output_type": "stream",
     "text": [
      "Wall time: 5.09 s\n"
     ]
    }
   ],
   "source": [
    "%%time\n",
    "df_train_info = pd.read_csv('E:/kaggle/input/train/train_info.csv')\n",
    "ac_data = np.load('E:/kaggle/input/train/train_acoustic_data.npz')['acoustic_data']\n",
    "\n",
    "def get_quake_period(i):\n",
    "    index_start, chunk_length = df_train_info['index_start'][i], df_train_info['chunk_length'][i]\n",
    "    t_start, t_end = df_train_info['t_start'][i], df_train_info['t_end'][i]\n",
    "    ac_data_period = ac_data[ index_start : index_start + chunk_length ]\n",
    "    ttf_data_period = np.linspace(t_start, t_end, chunk_length, dtype=np.float32)\n",
    "    return ac_data_period, ttf_data_period"
   ]
  },
  {
   "cell_type": "code",
   "execution_count": 11,
   "metadata": {},
   "outputs": [
    {
     "data": {
      "text/plain": [
       "(array([4, 4, 1, ..., 4, 3, 3], dtype=int16),\n",
       " array([8.8566999e+00, 8.8566999e+00, 8.8566999e+00, ..., 1.0960064e-03,\n",
       "        1.0957466e-03, 1.0954869e-03], dtype=float32))"
      ]
     },
     "execution_count": 11,
     "metadata": {},
     "output_type": "execute_result"
    }
   ],
   "source": [
    "get_quake_period(3)"
   ]
  },
  {
   "cell_type": "code",
   "execution_count": 12,
   "metadata": {},
   "outputs": [
    {
     "data": {
      "text/html": [
       "<div>\n",
       "<style scoped>\n",
       "    .dataframe tbody tr th:only-of-type {\n",
       "        vertical-align: middle;\n",
       "    }\n",
       "\n",
       "    .dataframe tbody tr th {\n",
       "        vertical-align: top;\n",
       "    }\n",
       "\n",
       "    .dataframe thead th {\n",
       "        text-align: right;\n",
       "    }\n",
       "</style>\n",
       "<table border=\"1\" class=\"dataframe\">\n",
       "  <thead>\n",
       "    <tr style=\"text-align: right;\">\n",
       "      <th></th>\n",
       "      <th>seg_id</th>\n",
       "      <th>time_to_failure</th>\n",
       "    </tr>\n",
       "  </thead>\n",
       "  <tbody>\n",
       "    <tr>\n",
       "      <th>2619</th>\n",
       "      <td>seg_ff4236</td>\n",
       "      <td>0</td>\n",
       "    </tr>\n",
       "    <tr>\n",
       "      <th>2620</th>\n",
       "      <td>seg_ff7478</td>\n",
       "      <td>0</td>\n",
       "    </tr>\n",
       "    <tr>\n",
       "      <th>2621</th>\n",
       "      <td>seg_ff79d9</td>\n",
       "      <td>0</td>\n",
       "    </tr>\n",
       "    <tr>\n",
       "      <th>2622</th>\n",
       "      <td>seg_ffbd6a</td>\n",
       "      <td>0</td>\n",
       "    </tr>\n",
       "    <tr>\n",
       "      <th>2623</th>\n",
       "      <td>seg_ffe7cc</td>\n",
       "      <td>0</td>\n",
       "    </tr>\n",
       "  </tbody>\n",
       "</table>\n",
       "</div>"
      ],
      "text/plain": [
       "          seg_id  time_to_failure\n",
       "2619  seg_ff4236                0\n",
       "2620  seg_ff7478                0\n",
       "2621  seg_ff79d9                0\n",
       "2622  seg_ffbd6a                0\n",
       "2623  seg_ffe7cc                0"
      ]
     },
     "execution_count": 12,
     "metadata": {},
     "output_type": "execute_result"
    }
   ],
   "source": [
    "df_ssub = pd.read_csv('E:\\kaggle\\input/sample_submission.csv')\n",
    "df_ssub.tail()"
   ]
  },
  {
   "cell_type": "code",
   "execution_count": 15,
   "metadata": {},
   "outputs": [
    {
     "name": "stdout",
     "output_type": "stream",
     "text": [
      "test data shape : (2624, 150000)\n"
     ]
    }
   ],
   "source": [
    "ac_data = []\n",
    "\n",
    "for fname in df_ssub['seg_id'].values:\n",
    "    ac_data.append(pd.read_csv('E:/kaggle/input/test/' + fname + '.csv').acoustic_data.values.astype(np.int16))\n",
    "    \n",
    "ac_data = np.array(ac_data)\n",
    "\n",
    "np.savez_compressed('E:/kaggle/input/test/test_acoustic_data.npz', acoustic_data=ac_data)\n",
    "\n",
    "print('test data shape :', ac_data.shape)"
   ]
  },
  {
   "cell_type": "code",
   "execution_count": 24,
   "metadata": {},
   "outputs": [],
   "source": [
    "ac_data = np.load('E:/kaggle/input/train/train_acoustic_data.npz')['acoustic_data']"
   ]
  },
  {
   "cell_type": "code",
   "execution_count": 25,
   "metadata": {},
   "outputs": [
    {
     "data": {
      "text/plain": [
       "array([12,  6,  8, ..., 10,  6,  5], dtype=int16)"
      ]
     },
     "execution_count": 25,
     "metadata": {},
     "output_type": "execute_result"
    }
   ],
   "source": [
    "ac_data"
   ]
  },
  {
   "cell_type": "code",
   "execution_count": null,
   "metadata": {},
   "outputs": [],
   "source": []
  }
 ],
 "metadata": {
  "kernelspec": {
   "display_name": "Python 3",
   "language": "python",
   "name": "python3"
  },
  "language_info": {
   "codemirror_mode": {
    "name": "ipython",
    "version": 3
   },
   "file_extension": ".py",
   "mimetype": "text/x-python",
   "name": "python",
   "nbconvert_exporter": "python",
   "pygments_lexer": "ipython3",
   "version": "3.6.5"
  }
 },
 "nbformat": 4,
 "nbformat_minor": 2
}
